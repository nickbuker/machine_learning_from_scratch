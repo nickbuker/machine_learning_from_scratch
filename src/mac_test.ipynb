{
 "cells": [
  {
   "cell_type": "code",
   "execution_count": 1,
   "metadata": {
    "collapsed": true
   },
   "outputs": [],
   "source": [
    "import pandas as pd\n",
    "import matplotlib.pyplot as plt\n",
    "\n",
    "from sklearn.datasets import load_boston\n",
    "from sklearn.model_selection import train_test_split\n",
    "\n",
    "from DecisionTreeRegressor import DecisionTreeRegressor\n",
    "from RandomForestRegressor import RandomForestRegressor\n",
    "%matplotlib inline"
   ]
  },
  {
   "cell_type": "code",
   "execution_count": 2,
   "metadata": {
    "collapsed": true
   },
   "outputs": [],
   "source": [
    "boston = load_boston()\n",
    "X = boston.data\n",
    "y = boston.target"
   ]
  },
  {
   "cell_type": "code",
   "execution_count": 3,
   "metadata": {
    "collapsed": true
   },
   "outputs": [],
   "source": [
    "X_train, X_test, y_train, y_test = train_test_split(X, y, test_size=0.3, random_state=97)"
   ]
  },
  {
   "cell_type": "code",
   "execution_count": 4,
   "metadata": {
    "collapsed": true
   },
   "outputs": [],
   "source": [
    "DTR = DecisionTreeRegressor()"
   ]
  },
  {
   "cell_type": "code",
   "execution_count": 5,
   "metadata": {},
   "outputs": [
    {
     "name": "stdout",
     "output_type": "stream",
     "text": [
      "CPU times: user 1min 26s, sys: 334 ms, total: 1min 26s\n",
      "Wall time: 1min 26s\n"
     ]
    }
   ],
   "source": [
    "%%time\n",
    "depths = []\n",
    "scores = []\n",
    "\n",
    "for depth in range(1, 25):\n",
    "    depths.append(depth)\n",
    "    DTR.fit(X_train, y_train, max_depth=depth)\n",
    "    scores.append(DTR.score(X_test, y_test))    "
   ]
  },
  {
   "cell_type": "code",
   "execution_count": 6,
   "metadata": {},
   "outputs": [
    {
     "data": {
      "text/plain": [
       "<matplotlib.collections.PathCollection at 0x10bc496a0>"
      ]
     },
     "execution_count": 6,
     "metadata": {},
     "output_type": "execute_result"
    },
    {
     "data": {
      "image/png": "[encoded data removed]",
      "text/plain": [
       "<matplotlib.figure.Figure at 0x10fea1048>"
      ]
     },
     "metadata": {},
     "output_type": "display_data"
    }
   ],
   "source": [
    "plt.scatter(depths, [-1 * score for score in scores])"
   ]
  },
  {
   "cell_type": "code",
   "execution_count": 7,
   "metadata": {
    "collapsed": true
   },
   "outputs": [],
   "source": [
    "RFR = RandomForestRegressor()"
   ]
  },
  {
   "cell_type": "code",
   "execution_count": 8,
   "metadata": {},
   "outputs": [
    {
     "name": "stdout",
     "output_type": "stream",
     "text": [
      "CPU times: user 5min 38s, sys: 989 ms, total: 5min 39s\n",
      "Wall time: 5min 41s\n"
     ]
    }
   ],
   "source": [
    "%%time\n",
    "depths = []\n",
    "scores = []\n",
    "\n",
    "for depth in range(1, 25):\n",
    "    depths.append(depth)\n",
    "    RFR.fit(X_train, y_train, max_depth=depth, n_estimators=25)\n",
    "    scores.append(RFR.score(X_test, y_test)) "
   ]
  },
  {
   "cell_type": "code",
   "execution_count": 9,
   "metadata": {},
   "outputs": [
    {
     "data": {
      "text/plain": [
       "<matplotlib.collections.PathCollection at 0x110335080>"
      ]
     },
     "execution_count": 9,
     "metadata": {},
     "output_type": "execute_result"
    },
    {
     "data": {
      "image/png": "[encoded data removed]",
      "text/plain": [
       "<matplotlib.figure.Figure at 0x10ff9f7f0>"
      ]
     },
     "metadata": {},
     "output_type": "display_data"
    }
   ],
   "source": [
    "plt.scatter(depths, [-1 * score for score in scores])"
   ]
  },
  {
   "cell_type": "code",
   "execution_count": 10,
   "metadata": {},
   "outputs": [
    {
     "name": "stdout",
     "output_type": "stream",
     "text": [
      "18.7 19.7202715686\n",
      "50.0 21.042854902\n",
      "26.6 23.4941882353\n",
      "10.4 22.740854902\n",
      "19.4 23.440604902\n",
      "33.1 20.357604902\n",
      "19.4 20.357604902\n",
      "23.8 20.366854902\n",
      "20.5 20.8678072829\n",
      "21.2 20.572854902\n",
      "12.6 24.542854902\n",
      "5.0 22.444854902\n",
      "15.2 20.7615215686\n",
      "35.4 21.5259382353\n",
      "46.0 21.5259382353\n",
      "27.9 21.284604902\n",
      "24.7 26.7984166667\n",
      "12.8 24.542854902\n",
      "14.1 24.542854902\n",
      "19.4 21.344854902\n",
      "36.4 23.624604902\n",
      "22.7 19.8701882353\n",
      "15.2 21.666854902\n",
      "28.7 26.06\n",
      "43.1 22.372604902\n",
      "15.6 19.644854902\n",
      "17.4 20.6381882353\n",
      "24.5 19.7242715686\n",
      "33.2 26.9733333333\n",
      "22.1 20.410854902\n",
      "7.4 23.052854902\n",
      "19.3 19.544854902\n",
      "22.9 20.978604902\n",
      "19.6 19.644854902\n",
      "20.9 19.5038271242\n",
      "24.7 21.344854902\n",
      "15.0 23.356854902\n",
      "17.1 24.542854902\n",
      "28.4 26.9733333333\n",
      "12.0 24.202854902\n",
      "9.7 24.542854902\n",
      "32.9 25.48375\n",
      "14.3 21.6115215686\n",
      "50.0 26.056\n",
      "23.4 19.6762715686\n",
      "19.2 20.366854902\n",
      "31.5 20.5061882353\n",
      "16.2 20.366854902\n",
      "31.2 23.328604902\n",
      "19.5 19.544854902\n",
      "21.7 20.866854902\n",
      "17.1 21.3615215686\n",
      "50.0 24.542854902\n",
      "21.7 20.448854902\n",
      "29.6 26.056\n",
      "17.1 20.357604902\n",
      "15.1 23.346854902\n",
      "11.9 23.052854902\n",
      "39.8 26.056\n",
      "23.9 23.4941882353\n",
      "27.5 19.544854902\n",
      "22.5 20.448854902\n",
      "18.1 21.3615215686\n",
      "21.7 19.544854902\n",
      "18.8 20.366854902\n",
      "22.0 19.5038271242\n",
      "20.8 20.866854902\n",
      "25.2 20.0107715686\n",
      "20.5 19.6762715686\n",
      "20.1 19.544854902\n",
      "23.7 20.448854902\n",
      "7.2 24.542854902\n",
      "21.7 23.6141882353\n",
      "22.3 20.017604902\n",
      "9.6 24.542854902\n",
      "17.2 23.4941882353\n",
      "20.0 23.352854902\n",
      "19.1 21.2915215686\n",
      "23.8 20.6381882353\n",
      "7.0 23.356854902\n",
      "29.1 25.6424166667\n",
      "7.2 23.122854902\n",
      "24.7 20.8701882353\n",
      "15.2 19.884854902\n",
      "8.4 24.542854902\n",
      "18.0 21.3615215686\n",
      "13.9 19.644854902\n",
      "31.7 20.8501882353\n",
      "23.9 23.6141882353\n",
      "24.8 20.017604902\n",
      "14.8 19.644854902\n",
      "27.5 24.542854902\n",
      "26.5 19.544854902\n",
      "20.7 21.540854902\n",
      "17.4 21.3615215686\n",
      "6.3 24.542854902\n",
      "7.2 23.122854902\n",
      "21.2 21.344854902\n",
      "8.8 23.052854902\n",
      "16.1 22.230854902\n",
      "23.7 20.2872715686\n",
      "28.6 23.6141882353\n",
      "24.1 24.3344166667\n",
      "19.9 21.042854902\n",
      "8.5 23.356854902\n",
      "21.2 20.866854902\n",
      "23.0 21.3615215686\n",
      "14.6 19.8701882353\n",
      "14.9 22.150854902\n",
      "32.0 20.0014382353\n",
      "20.6 19.7341882353\n",
      "31.5 20.8501882353\n",
      "36.5 22.372604902\n",
      "21.2 23.352854902\n",
      "22.2 23.4941882353\n",
      "24.8 19.7242715686\n",
      "23.2 21.666854902\n",
      "14.0 21.3615215686\n",
      "24.4 20.448854902\n",
      "8.3 23.052854902\n",
      "18.4 21.2915215686\n",
      "48.5 26.91175\n",
      "29.9 23.2675215686\n",
      "22.0 20.8678072829\n",
      "11.7 24.542854902\n",
      "20.5 19.7242715686\n",
      "23.6 23.2675215686\n",
      "12.7 19.884854902\n",
      "22.4 20.448854902\n",
      "25.0 19.7202715686\n",
      "13.5 24.542854902\n",
      "25.0 19.6762715686\n",
      "21.2 20.366854902\n",
      "18.2 25.5264166667\n",
      "19.0 20.866854902\n",
      "24.3 19.7242715686\n",
      "17.5 20.572854902\n",
      "26.4 26.056\n",
      "28.1 20.448854902\n",
      "24.0 24.79575\n",
      "22.8 20.366854902\n",
      "18.9 17.9614937908\n",
      "33.2 20.0014382353\n",
      "11.8 19.8701882353\n",
      "20.8 23.352854902\n",
      "15.6 21.060854902\n",
      "13.4 22.4401882353\n",
      "10.8 24.542854902\n",
      "29.6 19.7242715686\n",
      "30.7 22.372604902\n",
      "20.4 20.366854902\n",
      "20.0 21.344854902\n",
      "20.9 23.544604902\n",
      "17.6 19.7242715686\n",
      "22.7 21.614854902\n",
      "23.1 20.572854902\n",
      "13.4 24.542854902\n",
      "20.2 20.8761882353\n",
      "23.1 21.648854902\n",
      "33.3 25.1210833333\n",
      "29.0 25.6624166667\n",
      "13.4 22.494854902\n",
      "13.1 24.542854902\n",
      "14.5 19.884854902\n",
      "38.7 26.9733333333\n",
      "36.1 24.9450833333\n",
      "17.0 20.6381882353\n",
      "21.0 20.366854902\n",
      "26.7 20.8501882353\n",
      "16.8 21.042854902\n",
      "19.1 24.202854902\n",
      "22.0 20.357604902\n",
      "14.1 24.542854902\n",
      "22.6 23.2675215686\n",
      "15.7 20.8678072829\n",
      "16.5 25.92\n",
      "24.5 20.572854902\n",
      "20.6 21.042854902\n",
      "20.6 25.5264166667\n",
      "14.1 21.042854902\n",
      "44.0 24.212604902\n",
      "15.0 23.052854902\n",
      "23.0 21.648854902\n",
      "13.3 21.3615215686\n",
      "22.3 19.8701882353\n",
      "28.7 23.6141882353\n",
      "15.6 21.002854902\n",
      "10.9 23.356854902\n",
      "30.1 22.372604902\n",
      "12.7 24.542854902\n",
      "30.1 26.3344166667\n",
      "23.1 24.4312715686\n",
      "21.4 26.9733333333\n",
      "23.1 23.2675215686\n",
      "15.4 24.542854902\n",
      "12.5 21.586854902\n",
      "19.6 19.7202715686\n",
      "35.1 21.5259382353\n",
      "23.3 20.6381882353\n",
      "10.2 24.362854902\n",
      "19.9 20.866854902\n",
      "17.4 19.5038271242\n",
      "10.5 23.052854902\n",
      "35.2 20.0107715686\n",
      "37.6 20.8501882353\n",
      "30.3 25.1210833333\n",
      "17.8 24.542854902\n",
      "24.4 20.448854902\n",
      "23.6 23.936854902\n",
      "22.8 20.448854902\n",
      "20.1 24.542854902\n",
      "19.7 19.6762715686\n",
      "32.0 23.624604902\n",
      "21.9 23.544604902\n",
      "27.9 24.542854902\n",
      "20.6 20.978604902\n",
      "31.0 22.372604902\n",
      "19.4 19.544854902\n",
      "20.4 21.648854902\n",
      "20.0 22.494854902\n",
      "7.5 24.542854902\n",
      "8.5 22.518854902\n",
      "29.8 21.042854902\n",
      "19.5 21.540854902\n",
      "15.6 21.178854902\n",
      "22.6 21.042854902\n",
      "41.3 20.6381882353\n",
      "19.1 19.8701882353\n",
      "13.3 22.230854902\n",
      "17.9 23.122854902\n",
      "16.7 24.542854902\n",
      "9.5 24.542854902\n",
      "21.7 20.448854902\n",
      "14.3 21.060854902\n",
      "21.1 20.0107715686\n",
      "13.8 19.8701882353\n",
      "17.8 21.3615215686\n",
      "23.1 24.542854902\n",
      "22.8 22.372604902\n",
      "15.6 19.8701882353\n",
      "25.0 20.978604902\n",
      "50.0 26.91175\n",
      "19.3 25.496854902\n",
      "13.8 23.122854902\n",
      "21.4 24.542854902\n",
      "16.0 19.7202715686\n",
      "23.8 21.648854902\n",
      "50.0 20.6381882353\n",
      "11.9 20.448854902\n",
      "22.5 23.4941882353\n",
      "13.1 19.8701882353\n",
      "21.1 21.540854902\n",
      "28.2 24.9450833333\n",
      "50.0 26.7984166667\n",
      "23.3 20.2872715686\n",
      "18.5 19.7242715686\n",
      "27.5 21.042854902\n",
      "50.0 22.378854902\n",
      "19.6 21.042854902\n",
      "11.8 20.6341882353\n",
      "24.8 20.6992715686\n",
      "21.9 20.866854902\n",
      "24.3 20.5061882353\n",
      "30.1 21.3501882353\n",
      "19.6 20.6381882353\n",
      "10.9 24.882854902\n",
      "16.6 19.616854902\n",
      "23.4 20.448854902\n",
      "18.9 17.9614937908\n",
      "28.5 21.284604902\n",
      "36.2 26.056\n",
      "18.5 20.366854902\n",
      "20.3 20.366854902\n",
      "5.0 23.356854902\n",
      "16.5 17.9614937908\n",
      "14.2 22.4401882353\n",
      "21.5 23.6141882353\n",
      "23.7 20.5315215686\n",
      "24.5 25.6664166667\n",
      "18.6 19.544854902\n",
      "16.1 21.614854902\n",
      "21.4 23.352854902\n",
      "50.0 20.5061882353\n",
      "12.1 24.542854902\n",
      "18.4 21.3615215686\n",
      "13.9 24.202854902\n",
      "17.2 21.078854902\n",
      "11.3 24.542854902\n",
      "19.6 21.060854902\n",
      "26.6 25.3344166667\n",
      "23.9 20.6992715686\n",
      "27.1 17.9614937908\n",
      "37.9 26.056\n",
      "37.3 21.284604902\n",
      "11.7 24.542854902\n",
      "14.5 19.644854902\n",
      "11.0 20.910854902\n",
      "23.9 23.328604902\n",
      "19.9 19.616854902\n",
      "13.1 19.884854902\n",
      "17.5 19.644854902\n",
      "13.8 24.542854902\n",
      "21.6 20.366854902\n",
      "24.6 23.2675215686\n",
      "24.1 25.1424166667\n",
      "42.3 24.3344166667\n",
      "20.4 19.616854902\n",
      "30.8 25.8584166667\n",
      "25.1 20.5061882353\n",
      "20.0 20.8701882353\n",
      "18.2 19.616854902\n",
      "23.7 20.2872715686\n",
      "24.8 25.6664166667\n",
      "18.2 19.644854902\n",
      "28.0 20.6992715686\n",
      "22.2 21.540854902\n",
      "26.4 20.357604902\n",
      "20.3 23.6141882353\n",
      "18.5 21.648854902\n",
      "7.0 20.7615215686\n",
      "25.0 21.042854902\n",
      "37.0 23.624604902\n",
      "28.7 23.936854902\n",
      "27.1 23.6141882353\n",
      "50.0 26.1304166667\n",
      "18.9 20.8701882353\n",
      "10.2 24.542854902\n",
      "23.2 20.866854902\n",
      "29.8 23.624604902\n",
      "5.6 23.052854902\n",
      "16.3 23.204854902\n",
      "22.6 20.448854902\n",
      "13.4 21.002854902\n",
      "22.0 20.448854902\n",
      "10.2 24.542854902\n",
      "36.2 26.056\n",
      "18.7 21.540854902\n",
      "19.8 19.544854902\n",
      "22.0 25.4504166667\n",
      "17.8 19.8701882353\n",
      "50.0 24.542854902\n",
      "21.4 20.8678072829\n",
      "16.2 21.3615215686\n",
      "20.6 21.540854902\n",
      "33.8 22.372604902\n",
      "24.6 21.648854902\n",
      "20.6 20.448854902\n",
      "32.2 26.5264166667\n",
      "34.9 25.48375\n",
      "8.7 24.202854902\n",
      "37.2 26.056\n",
      "19.5 19.544854902\n",
      "8.4 24.542854902\n",
      "22.6 23.936854902\n"
     ]
    }
   ],
   "source": [
    "RFR.fit(X_train, y_train, max_depth=10, n_estimators=25)\n",
    "y_hat = RFR.predict(X_train)\n",
    "for i, v in enumerate(y_train):\n",
    "    print (v, y_hat[i])"
   ]
  },
  {
   "cell_type": "code",
   "execution_count": 11,
   "metadata": {
    "collapsed": true
   },
   "outputs": [],
   "source": [
    "X_sample = X_train[[1,2,3,4,3,2,1],:][:,[0,5,7]]"
   ]
  },
  {
   "cell_type": "code",
   "execution_count": 13,
   "metadata": {},
   "outputs": [
    {
     "ename": "IndexError",
     "evalue": "index 5 is out of bounds for axis 1 with size 3",
     "output_type": "error",
     "traceback": [
      "\u001b[0;31m---------------------------------------------------------------------------\u001b[0m",
      "\u001b[0;31mIndexError\u001b[0m                                Traceback (most recent call last)",
      "\u001b[0;32m<ipython-input-13-01a8ff0cf171>\u001b[0m in \u001b[0;36m<module>\u001b[0;34m()\u001b[0m\n\u001b[0;32m----> 1\u001b[0;31m \u001b[0mX_sample\u001b[0m\u001b[0;34m[\u001b[0m\u001b[0;34m:\u001b[0m\u001b[0;34m,\u001b[0m\u001b[0;36m5\u001b[0m\u001b[0;34m]\u001b[0m\u001b[0;34m\u001b[0m\u001b[0m\n\u001b[0m",
      "\u001b[0;31mIndexError\u001b[0m: index 5 is out of bounds for axis 1 with size 3"
     ]
    }
   ],
   "source": [
    "X_sample[:,5]"
   ]
  },
  {
   "cell_type": "code",
   "execution_count": null,
   "metadata": {
    "collapsed": true
   },
   "outputs": [],
   "source": []
  }
 ],
 "metadata": {
  "kernelspec": {
   "display_name": "Python 3",
   "language": "python",
   "name": "python3"
  },
  "language_info": {
   "codemirror_mode": {
    "name": "ipython",
    "version": 3
   },
   "file_extension": ".py",
   "mimetype": "text/x-python",
   "name": "python",
   "nbconvert_exporter": "python",
   "pygments_lexer": "ipython3",
   "version": "3.6.1"
  }
 },
 "nbformat": 4,
 "nbformat_minor": 2
}
