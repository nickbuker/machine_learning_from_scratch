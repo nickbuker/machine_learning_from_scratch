{
 "cells": [
  {
   "cell_type": "code",
   "execution_count": 10,
   "metadata": {
    "collapsed": true
   },
   "outputs": [],
   "source": [
    "import pandas as pd\n",
    "import matplotlib.pyplot as plt\n",
    "\n",
    "from sklearn.datasets import load_boston\n",
    "from sklearn.model_selection import train_test_split\n",
    "\n",
    "from DecisionTreeRegressor import DecisionTreeRegressor\n",
    "from RandomForestRegressor import RandomForestRegressor\n",
    "%matplotlib inline"
   ]
  },
  {
   "cell_type": "code",
   "execution_count": 11,
   "metadata": {
    "collapsed": true
   },
   "outputs": [],
   "source": [
    "boston = load_boston()\n",
    "X = boston.data\n",
    "y = boston.target"
   ]
  },
  {
   "cell_type": "code",
   "execution_count": 12,
   "metadata": {
    "collapsed": true
   },
   "outputs": [],
   "source": [
    "X_train, X_test, y_train, y_test = train_test_split(X, y, test_size=0.3, random_state=97)"
   ]
  },
  {
   "cell_type": "code",
   "execution_count": 13,
   "metadata": {
    "collapsed": true
   },
   "outputs": [],
   "source": [
    "DTR = DecisionTreeRegressor()"
   ]
  },
  {
   "cell_type": "code",
   "execution_count": 14,
   "metadata": {},
   "outputs": [
    {
     "name": "stdout",
     "output_type": "stream",
     "text": [
      "CPU times: user 31.8 s, sys: 34 ms, total: 31.9 s\n",
      "Wall time: 31.9 s\n"
     ]
    }
   ],
   "source": [
    "%%time\n",
    "depths = []\n",
    "scores = []\n",
    "\n",
    "for depth in range(1, 12):\n",
    "    depths.append(depth)\n",
    "    DTR.fit(X_train, y_train, max_depth=depth)\n",
    "    scores.append(DTR.score(X_test, y_test))    "
   ]
  },
  {
   "cell_type": "code",
   "execution_count": 15,
   "metadata": {},
   "outputs": [
    {
     "data": {
      "text/plain": [
       "<matplotlib.collections.PathCollection at 0x10d98b7f0>"
      ]
     },
     "execution_count": 15,
     "metadata": {},
     "output_type": "execute_result"
    },
    {
     "data": {
      "image/png": "[encoded data removed]",
      "text/plain": [
       "<matplotlib.figure.Figure at 0x10d4c09e8>"
      ]
     },
     "metadata": {},
     "output_type": "display_data"
    }
   ],
   "source": [
    "plt.scatter(depths, [-1 * score for score in scores])"
   ]
  },
  {
   "cell_type": "code",
   "execution_count": 16,
   "metadata": {
    "collapsed": true
   },
   "outputs": [],
   "source": [
    "RFR = RandomForestRegressor()"
   ]
  },
  {
   "cell_type": "code",
   "execution_count": 17,
   "metadata": {},
   "outputs": [
    {
     "name": "stdout",
     "output_type": "stream",
     "text": [
      "CPU times: user 4min 19s, sys: 980 ms, total: 4min 20s\n",
      "Wall time: 4min 22s\n"
     ]
    }
   ],
   "source": [
    "%%time\n",
    "depths = []\n",
    "scores = []\n",
    "\n",
    "for depth in range(1, 12):\n",
    "    depths.append(depth)\n",
    "    RFR.fit(X_train, y_train, max_depth=depth, n_estimators=50)\n",
    "    scores.append(RFR.score(X_test, y_test)) "
   ]
  },
  {
   "cell_type": "code",
   "execution_count": 18,
   "metadata": {},
   "outputs": [
    {
     "data": {
      "text/plain": [
       "<matplotlib.collections.PathCollection at 0x10db28ac8>"
      ]
     },
     "execution_count": 18,
     "metadata": {},
     "output_type": "execute_result"
    },
    {
     "data": {
      "image/png": "[encoded data removed]",
      "text/plain": [
       "<matplotlib.figure.Figure at 0x10d5dd4e0>"
      ]
     },
     "metadata": {},
     "output_type": "display_data"
    }
   ],
   "source": [
    "plt.scatter(depths, [-1 * score for score in scores])"
   ]
  },
  {
   "cell_type": "code",
   "execution_count": null,
   "metadata": {
    "collapsed": true
   },
   "outputs": [],
   "source": []
  },
  {
   "cell_type": "code",
   "execution_count": null,
   "metadata": {
    "collapsed": true
   },
   "outputs": [],
   "source": []
  },
  {
   "cell_type": "code",
   "execution_count": null,
   "metadata": {
    "collapsed": true
   },
   "outputs": [],
   "source": []
  },
  {
   "cell_type": "code",
   "execution_count": null,
   "metadata": {
    "collapsed": true
   },
   "outputs": [],
   "source": []
  },
  {
   "cell_type": "code",
   "execution_count": null,
   "metadata": {
    "collapsed": true
   },
   "outputs": [],
   "source": []
  },
  {
   "cell_type": "code",
   "execution_count": 7,
   "metadata": {},
   "outputs": [
    {
     "name": "stdout",
     "output_type": "stream",
     "text": [
      "18.7 15.783670412\n",
      "50.0 29.4933333333\n",
      "26.6 24.503670412\n",
      "10.4 10.9334920635\n",
      "19.4 18.8401190476\n",
      "33.1 17.48\n",
      "19.4 18.56\n",
      "23.8 22.1690383774\n",
      "20.5 19.255\n",
      "21.2 20.3155357143\n",
      "12.6 12.7397656501\n",
      "5.0 8.04\n",
      "15.2 12.5433333333\n",
      "35.4 17.9833333333\n",
      "46.0 35.9666666667\n",
      "27.9 27.6301190476\n",
      "24.7 28.3901190476\n",
      "12.8 10.6533571429\n",
      "14.1 13.858\n",
      "19.4 16.1401190476\n",
      "36.4 36.2133333333\n",
      "22.7 15.9790870787\n",
      "15.2 12.3810025063\n",
      "28.7 20.9003370787\n",
      "43.1 30.4857142857\n",
      "15.6 14.443670412\n",
      "17.4 14.8906666667\n",
      "24.5 19.2406060606\n",
      "33.2 31.2523809524\n",
      "22.1 21.353452381\n",
      "7.4 8.03833333333\n",
      "19.3 19.792420412\n",
      "22.9 22.179783719\n",
      "19.6 15.6753370787\n",
      "20.9 15.9001190476\n",
      "24.7 17.5225109917\n",
      "15.0 12.96\n",
      "17.1 11.978\n",
      "28.4 25.0733333333\n",
      "12.0 9.485\n",
      "9.7 7.658\n",
      "32.9 31.3133333333\n",
      "14.3 12.8552882206\n",
      "50.0 36.48\n",
      "23.4 16.7367857143\n",
      "19.2 20.3382537453\n",
      "31.5 23.99\n",
      "16.2 16.0089596273\n",
      "31.2 30.1266666667\n",
      "19.5 19.0863370787\n",
      "21.7 16.9857537453\n",
      "17.1 14.733670412\n",
      "50.0 31.5207142857\n",
      "21.7 21.8255072464\n",
      "29.6 16.58\n",
      "17.1 18.438670412\n",
      "15.1 12.8262678146\n",
      "11.9 10.1053333333\n",
      "39.8 29.7933333333\n",
      "23.9 24.2901190476\n",
      "27.5 25.0617656501\n",
      "22.5 22.3103370787\n",
      "18.1 14.6653370787\n",
      "21.7 21.6190870787\n",
      "18.8 19.0891249574\n",
      "22.0 16.253670412\n",
      "20.8 12.8066666667\n",
      "25.2 20.1767857143\n",
      "20.5 17.4652288535\n",
      "20.1 22.4290870787\n",
      "23.7 15.05\n",
      "7.2 10.7367857143\n",
      "21.7 21.6589596273\n",
      "22.3 17.6901190476\n",
      "9.6 9.13476190476\n",
      "17.2 17.685\n",
      "20.0 21.7742572464\n",
      "19.1 19.6875300611\n",
      "23.8 18.4754166667\n",
      "7.0 8.78\n",
      "29.1 27.3466666667\n",
      "7.2 7.22666666667\n",
      "24.7 21.7679561263\n",
      "15.2 12.588452381\n",
      "8.4 10.292\n",
      "18.0 14.4201190476\n",
      "13.9 12.885\n",
      "31.7 32.6857142857\n",
      "23.9 21.3762323546\n",
      "24.8 18.2148917749\n",
      "14.8 11.125\n",
      "27.5 17.325\n",
      "26.5 26.5704761905\n",
      "20.7 17.3703370787\n",
      "17.4 13.6887878788\n",
      "6.3 9.36133333333\n",
      "7.2 7.692\n",
      "21.2 19.295844325\n",
      "8.8 12.2986666667\n",
      "16.1 16.7492763158\n",
      "23.7 18.860952381\n",
      "28.6 22.8901190476\n",
      "24.1 32.2770037453\n",
      "19.9 19.9801190476\n",
      "8.5 4.69\n",
      "21.2 20.8279276584\n",
      "23.0 12.06875\n",
      "14.6 11.92\n",
      "14.9 12.0902882206\n",
      "32.0 18.816\n",
      "20.6 20.26875\n",
      "31.5 30.8813333333\n",
      "36.5 27.9657142857\n",
      "21.2 20.340923913\n",
      "22.2 22.3109431393\n",
      "24.8 21.24\n",
      "23.2 15.9095739348\n",
      "14.0 10.76\n",
      "24.4 22.0775109917\n",
      "8.3 7.825\n",
      "18.4 13.9922919659\n",
      "48.5 33.92\n",
      "29.9 28.4017142857\n",
      "22.0 21.2170037453\n",
      "11.7 10.4900952381\n",
      "20.5 16.5\n",
      "23.6 22.4776098059\n",
      "12.7 11.1266666667\n",
      "22.4 23.0403370787\n",
      "25.0 19.1533333333\n",
      "13.5 11.7491688312\n",
      "25.0 18.363452381\n",
      "21.2 20.8315870787\n",
      "18.2 20.4533333333\n",
      "19.0 18.9287878788\n",
      "24.3 18.1042764726\n",
      "17.5 19.5770037453\n",
      "26.4 22.9503370787\n",
      "28.1 22.0927799736\n",
      "24.0 25.7901190476\n",
      "22.8 24.0501190476\n",
      "18.9 18.5617857143\n",
      "33.2 25.7857142857\n",
      "11.8 10.7\n",
      "20.8 19.900923913\n",
      "15.6 12.6671212121\n",
      "13.4 10.5457142857\n",
      "10.8 9.31057142857\n",
      "29.6 23.36\n",
      "30.7 24.59\n",
      "20.4 19.9283333333\n",
      "20.0 16.4101190476\n",
      "20.9 24.8003370787\n",
      "17.6 14.8883333333\n",
      "22.7 16.4421133944\n",
      "23.1 20.128670412\n",
      "13.4 12.5846666667\n",
      "20.2 16.4421133944\n",
      "23.1 17.515626294\n",
      "33.3 36.38\n",
      "29.0 29.53\n",
      "13.4 12.0210025063\n",
      "13.1 11.7238291421\n",
      "14.5 13.3916666667\n",
      "38.7 34.42\n",
      "36.1 32.92\n",
      "17.0 12.9527777778\n",
      "21.0 19.8353370787\n",
      "26.7 20.9725\n",
      "16.8 13.6040952381\n",
      "19.1 20.22\n",
      "22.0 18.4609431393\n",
      "14.1 11.4128809524\n",
      "22.6 22.3770037453\n",
      "15.7 13.42\n",
      "16.5 20.9042764726\n",
      "24.5 20.452202381\n",
      "20.6 21.0082537453\n",
      "20.6 20.1866666667\n",
      "14.1 12.6146666667\n",
      "44.0 42.9766666667\n",
      "15.0 15.6853333333\n",
      "23.0 17.733452381\n",
      "13.3 12.0074799358\n",
      "22.3 16.6954166667\n",
      "28.7 25.5717656501\n",
      "15.6 12.7777777778\n",
      "10.9 9.47611111111\n",
      "30.1 26.2923809524\n",
      "12.7 12.8920180375\n",
      "30.1 31.0666666667\n",
      "23.1 18.4770037453\n",
      "21.4 24.9303370787\n",
      "23.1 18.9267857143\n",
      "15.4 11.4827619048\n",
      "12.5 12.6450898079\n",
      "19.6 15.4110714286\n",
      "35.1 27.7466666667\n",
      "23.3 24.26\n",
      "10.2 10.9074799358\n",
      "19.9 18.9633333333\n",
      "17.4 13.7367857143\n",
      "10.5 10.1453370787\n",
      "35.2 28.9133333333\n",
      "37.6 34.0933333333\n",
      "30.3 31.9723809524\n",
      "17.8 13.1594285714\n",
      "24.4 23.6276190476\n",
      "23.6 32.3737142857\n",
      "22.8 22.7003370787\n",
      "20.1 18.895452381\n",
      "19.7 16.9970037453\n",
      "32.0 31.947047619\n",
      "21.9 26.4383370787\n",
      "27.9 17.2713333333\n",
      "20.6 21.755626294\n",
      "31.0 24.2433333333\n",
      "19.4 19.3903370787\n",
      "20.4 16.975626294\n",
      "20.0 14.6153120301\n",
      "7.5 8.738\n",
      "8.5 13.5360513644\n",
      "29.8 21.1991666667\n",
      "19.5 15.8310714286\n",
      "15.6 12.0533333333\n",
      "22.6 16.9857537453\n",
      "41.3 25.2933333333\n",
      "19.1 16.00375\n",
      "13.3 14.7305263158\n",
      "17.9 16.6053333333\n",
      "16.7 11.7557777778\n",
      "9.5 13.038\n",
      "21.7 21.9653370787\n",
      "14.3 13.8477857143\n",
      "21.1 14.6503370787\n",
      "13.8 13.3066666667\n",
      "17.8 14.3961190476\n",
      "23.1 15.652\n",
      "22.8 20.0403370787\n",
      "15.6 12.0432323232\n",
      "25.0 23.533452381\n",
      "50.0 30.0\n",
      "19.3 19.15\n",
      "13.8 16.0986666667\n",
      "21.4 15.3558928571\n",
      "16.0 15.3866666667\n",
      "23.8 17.7089596273\n",
      "50.0 36.11\n",
      "11.9 21.6748809524\n",
      "22.5 21.7170037453\n",
      "13.1 10.9044444444\n",
      "21.1 15.8567857143\n",
      "28.2 30.676\n",
      "50.0 37.14\n",
      "23.3 19.3346666667\n",
      "18.5 15.0330037453\n",
      "27.5 18.11\n",
      "50.0 30.4538596491\n",
      "19.6 21.1757537453\n",
      "11.8 11.8\n",
      "24.8 23.523452381\n",
      "21.9 19.269047619\n",
      "24.3 25.4492857143\n",
      "30.1 20.2148809524\n",
      "19.6 16.9033333333\n",
      "10.9 11.2872619048\n",
      "16.6 14.2333333333\n",
      "23.4 21.1388405797\n",
      "18.9 18.0\n",
      "28.5 28.2733333333\n",
      "36.2 25.7367857143\n",
      "18.5 19.5857537453\n",
      "20.3 20.6428370787\n",
      "5.0 8.13833333333\n",
      "16.5 15.7\n",
      "14.2 11.6309307359\n",
      "21.5 20.903452381\n",
      "23.7 25.4019548872\n",
      "24.5 24.0770037453\n",
      "18.6 19.8945833333\n",
      "16.1 12.9819548872\n",
      "21.4 21.7537323546\n",
      "50.0 38.56\n",
      "12.1 9.11514285714\n",
      "18.4 15.623670412\n",
      "13.9 15.165\n",
      "17.2 13.2257142857\n",
      "11.3 14.3885714286\n",
      "19.6 14.5455357143\n",
      "26.6 27.3757142857\n",
      "23.9 23.6970037453\n",
      "27.1 18.8901190476\n",
      "37.9 31.13\n",
      "37.3 26.9666666667\n",
      "11.7 12.2704761905\n",
      "14.5 12.6903370787\n",
      "11.0 10.5428571429\n",
      "23.9 24.7247857143\n",
      "19.9 15.9891776584\n",
      "13.1 11.2716666667\n",
      "17.5 13.5733333333\n",
      "13.8 14.1446666667\n",
      "21.6 22.1690383774\n",
      "24.6 23.611670412\n",
      "24.1 17.6733333333\n",
      "42.3 45.33\n",
      "20.4 15.7422929607\n",
      "30.8 22.5103370787\n",
      "25.1 20.8603370787\n",
      "20.0 21.0476190476\n",
      "18.2 16.2647929607\n",
      "23.7 19.6866666667\n",
      "24.8 28.529047619\n",
      "18.2 15.5325109917\n",
      "28.0 25.4367857143\n",
      "22.2 17.6903370787\n",
      "26.4 19.9052727273\n",
      "20.3 19.903452381\n",
      "18.5 15.895844325\n",
      "7.0 7.86333333333\n",
      "25.0 19.5547619048\n",
      "37.0 33.1057142857\n",
      "28.7 32.3737142857\n",
      "27.1 22.335844325\n",
      "50.0 24.4\n",
      "18.9 20.4044047619\n",
      "10.2 13.4282164502\n",
      "23.2 21.1957537453\n",
      "29.8 29.508\n",
      "5.6 6.80178571429\n",
      "16.3 12.9916666667\n",
      "22.6 22.6222929607\n",
      "13.4 10.3333333333\n",
      "22.0 24.139047619\n",
      "10.2 7.97619047619\n",
      "36.2 32.3033333333\n",
      "18.7 15.4110714286\n",
      "19.8 21.762420412\n",
      "22.0 22.8642764726\n",
      "17.8 13.3733333333\n",
      "50.0 33.12\n",
      "21.4 20.22\n",
      "16.2 13.8057916241\n",
      "20.6 17.1109431393\n",
      "33.8 28.8066666667\n",
      "24.6 18.2570037453\n",
      "20.6 20.8040584416\n",
      "32.2 33.0257142857\n",
      "34.9 29.2033333333\n",
      "8.7 7.785\n",
      "37.2 26.7033333333\n",
      "19.5 20.5957916241\n",
      "8.4 8.96657142857\n",
      "22.6 28.4776098059\n"
     ]
    }
   ],
   "source": [
    "RFR.fit(X_train, y_train, max_depth=10, n_estimators=5)\n",
    "y_hat = RFR.predict(X_train)\n",
    "for i, v in enumerate(y_train):\n",
    "    print (v, y_hat[i])"
   ]
  },
  {
   "cell_type": "code",
   "execution_count": 9,
   "metadata": {},
   "outputs": [
    {
     "data": {
      "text/plain": [
       "10"
      ]
     },
     "execution_count": 9,
     "metadata": {},
     "output_type": "execute_result"
    }
   ],
   "source": [
    "RFR.trees[0].tree.a.data[0][1]"
   ]
  },
  {
   "cell_type": "code",
   "execution_count": null,
   "metadata": {
    "collapsed": true
   },
   "outputs": [],
   "source": []
  }
 ],
 "metadata": {
  "kernelspec": {
   "display_name": "Python 3",
   "language": "python",
   "name": "python3"
  },
  "language_info": {
   "codemirror_mode": {
    "name": "ipython",
    "version": 3
   },
   "file_extension": ".py",
   "mimetype": "text/x-python",
   "name": "python",
   "nbconvert_exporter": "python",
   "pygments_lexer": "ipython3",
   "version": "3.6.1"
  }
 },
 "nbformat": 4,
 "nbformat_minor": 2
}
