{
 "cells": [
  {
   "cell_type": "code",
   "execution_count": 1,
   "metadata": {},
   "outputs": [],
   "source": [
    "import numpy as np\n",
    "\n",
    "from sklearn.linear_model import LinearRegression\n",
    "from sklearn.linear_model import LogisticRegression\n",
    "\n",
    "from SimpleLinearRegression import SimpleLinearRegression as SLR\n",
    "from MultipleLinearRegression import MultipleLinearRegression as MLR\n",
    "from LogisticRegression import LogisticRegression as myLogisticRegression\n",
    "\n",
    "from scoring import RSS, log_loss\n",
    "\n",
    "from sklearn.datasets import load_boston\n",
    "from sklearn.datasets import load_breast_cancer"
   ]
  },
  {
   "cell_type": "code",
   "execution_count": 2,
   "metadata": {},
   "outputs": [],
   "source": [
    "boston = load_boston()\n",
    "X = boston.data\n",
    "y = boston.target"
   ]
  },
  {
   "cell_type": "code",
   "execution_count": 3,
   "metadata": {},
   "outputs": [],
   "source": [
    "x = X[:,1]"
   ]
  },
  {
   "cell_type": "code",
   "execution_count": 4,
   "metadata": {},
   "outputs": [],
   "source": [
    "LR = LinearRegression()\n",
    "LR.fit(x.reshape(-1, 1), y)\n",
    "y_hat = LR.predict(x.reshape(-1,1))"
   ]
  },
  {
   "cell_type": "code",
   "execution_count": 5,
   "metadata": {},
   "outputs": [
    {
     "name": "stdout",
     "output_type": "stream",
     "text": [
      "[0.14213999]\n",
      "20.917579117799832\n"
     ]
    }
   ],
   "source": [
    "print(LR.coef_)\n",
    "print(LR.intercept_)"
   ]
  },
  {
   "cell_type": "code",
   "execution_count": 6,
   "metadata": {},
   "outputs": [],
   "source": [
    "mySLR = SLR()\n",
    "mySLR.fit(x, y)\n",
    "my_hat = mySLR.predict(x)"
   ]
  },
  {
   "cell_type": "code",
   "execution_count": 7,
   "metadata": {},
   "outputs": [
    {
     "data": {
      "text/plain": [
       "{'b0': 20.917579117799832, 'b1': 0.14213999415535436}"
      ]
     },
     "execution_count": 7,
     "metadata": {},
     "output_type": "execute_result"
    }
   ],
   "source": [
    "mySLR.model"
   ]
  },
  {
   "cell_type": "code",
   "execution_count": 8,
   "metadata": {},
   "outputs": [
    {
     "name": "stdout",
     "output_type": "stream",
     "text": [
      "37166.55822394633\n",
      "37166.55822394634\n"
     ]
    }
   ],
   "source": [
    "print(RSS(y, my_hat))\n",
    "print(RSS(y, y_hat))"
   ]
  },
  {
   "cell_type": "code",
   "execution_count": 9,
   "metadata": {},
   "outputs": [],
   "source": [
    "LR = LinearRegression()\n",
    "LR.fit(X, y)\n",
    "y_hat = LR.predict(X)"
   ]
  },
  {
   "cell_type": "code",
   "execution_count": 10,
   "metadata": {},
   "outputs": [
    {
     "name": "stdout",
     "output_type": "stream",
     "text": [
      "[-1.07170557e-01  4.63952195e-02  2.08602395e-02  2.68856140e+00\n",
      " -1.77957587e+01  3.80475246e+00  7.51061703e-04 -1.47575880e+00\n",
      "  3.05655038e-01 -1.23293463e-02 -9.53463555e-01  9.39251272e-03\n",
      " -5.25466633e-01]\n",
      "36.49110328036191\n"
     ]
    }
   ],
   "source": [
    "print(LR.coef_)\n",
    "print(LR.intercept_)"
   ]
  },
  {
   "cell_type": "code",
   "execution_count": 11,
   "metadata": {},
   "outputs": [],
   "source": [
    "myMLR = MLR()\n",
    "myMLR.fit(X, y)\n",
    "my_hat = myMLR.predict(X)"
   ]
  },
  {
   "cell_type": "code",
   "execution_count": 12,
   "metadata": {},
   "outputs": [
    {
     "data": {
      "text/plain": [
       "array([ 3.64911033e+01, -1.07170557e-01,  4.63952195e-02,  2.08602395e-02,\n",
       "        2.68856140e+00, -1.77957587e+01,  3.80475246e+00,  7.51061703e-04,\n",
       "       -1.47575880e+00,  3.05655038e-01, -1.23293463e-02, -9.53463555e-01,\n",
       "        9.39251272e-03, -5.25466633e-01])"
      ]
     },
     "execution_count": 12,
     "metadata": {},
     "output_type": "execute_result"
    }
   ],
   "source": [
    "myMLR.betas"
   ]
  },
  {
   "cell_type": "code",
   "execution_count": 2,
   "metadata": {},
   "outputs": [],
   "source": [
    "breast = load_breast_cancer()\n",
    "X = breast.data\n",
    "y = breast.target"
   ]
  },
  {
   "cell_type": "code",
   "execution_count": 3,
   "metadata": {},
   "outputs": [],
   "source": [
    "LR = LogisticRegression(C=100000000000)\n",
    "LR.fit(X, y)\n",
    "y_hat = LR.predict_proba(X)"
   ]
  },
  {
   "cell_type": "code",
   "execution_count": 15,
   "metadata": {},
   "outputs": [
    {
     "name": "stderr",
     "output_type": "stream",
     "text": [
      "/home/nick/Projects/machine_learning_from_scratch/src/LogisticRegression.py:157: RuntimeWarning: overflow encountered in exp\n",
      "  return 1 / (1 + np.exp(-X.dot(betas)))\n"
     ]
    }
   ],
   "source": [
    "myLR = myLogisticRegression()\n",
    "myLR.fit(X, y)\n",
    "my_hat = myLR.predict(X, prob=True)"
   ]
  },
  {
   "cell_type": "code",
   "execution_count": 16,
   "metadata": {},
   "outputs": [
    {
     "name": "stdout",
     "output_type": "stream",
     "text": [
      "0.05589948995600698\n",
      "21.670198898037278\n"
     ]
    }
   ],
   "source": [
    "print(log_loss(y, y_hat[:,1]))\n",
    "print(log_loss(y, my_hat))"
   ]
  },
  {
   "cell_type": "code",
   "execution_count": 17,
   "metadata": {},
   "outputs": [
    {
     "data": {
      "text/plain": [
       "569"
      ]
     },
     "execution_count": 17,
     "metadata": {},
     "output_type": "execute_result"
    }
   ],
   "source": [
    "y.shape[0]"
   ]
  },
  {
   "cell_type": "code",
   "execution_count": 18,
   "metadata": {},
   "outputs": [
    {
     "data": {
      "text/plain": [
       "569"
      ]
     },
     "execution_count": 18,
     "metadata": {},
     "output_type": "execute_result"
    }
   ],
   "source": [
    "len(y)"
   ]
  },
  {
   "cell_type": "code",
   "execution_count": 19,
   "metadata": {},
   "outputs": [
    {
     "name": "stderr",
     "output_type": "stream",
     "text": [
      "/home/nick/Envs/py36mlfs_testing/lib/python3.6/site-packages/ipykernel_launcher.py:1: RuntimeWarning: divide by zero encountered in log\n",
      "  \"\"\"Entry point for launching an IPython kernel.\n"
     ]
    },
    {
     "data": {
      "text/plain": [
       "array([-inf, -inf, -inf, -inf, -inf, -inf, -inf, -inf, -inf, -inf, -inf,\n",
       "       -inf, -inf, -inf, -inf, -inf, -inf, -inf, -inf,   0.,   0.,   0.,\n",
       "       -inf, -inf, -inf, -inf, -inf, -inf, -inf, -inf, -inf, -inf, -inf,\n",
       "       -inf, -inf, -inf, -inf,   0., -inf, -inf, -inf, -inf, -inf, -inf,\n",
       "       -inf, -inf,   0., -inf,   0.,   0.,   0.,   0.,   0., -inf, -inf,\n",
       "         0., -inf, -inf,   0.,   0.,   0.,   0., -inf,   0., -inf, -inf,\n",
       "         0.,   0.,   0.,   0., -inf,   0., -inf, -inf,   0., -inf,   0.,\n",
       "       -inf, -inf,   0.,   0.,   0., -inf, -inf,   0., -inf, -inf, -inf,\n",
       "         0.,   0.,   0., -inf,   0.,   0., -inf, -inf,   0.,   0.,   0.,\n",
       "       -inf, -inf,   0.,   0.,   0.,   0., -inf,   0.,   0., -inf,   0.,\n",
       "         0.,   0.,   0.,   0.,   0.,   0.,   0., -inf, -inf, -inf,   0.,\n",
       "       -inf, -inf,   0.,   0.,   0., -inf, -inf,   0., -inf,   0., -inf,\n",
       "       -inf,   0., -inf, -inf,   0.,   0., -inf,   0.,   0., -inf,   0.,\n",
       "         0.,   0.,   0., -inf,   0.,   0.,   0.,   0.,   0.,   0.,   0.,\n",
       "         0.,   0., -inf,   0.,   0.,   0.,   0., -inf, -inf,   0., -inf,\n",
       "         0.,   0., -inf, -inf,   0.,   0., -inf, -inf,   0.,   0.,   0.,\n",
       "         0., -inf,   0.,   0., -inf, -inf, -inf,   0., -inf,   0., -inf,\n",
       "         0.,   0.,   0., -inf,   0.,   0., -inf, -inf,   0., -inf, -inf,\n",
       "       -inf, -inf,   0., -inf, -inf, -inf,   0., -inf,   0., -inf,   0.,\n",
       "         0., -inf,   0., -inf, -inf, -inf, -inf,   0.,   0., -inf, -inf,\n",
       "         0.,   0.,   0., -inf,   0.,   0.,   0.,   0.,   0., -inf, -inf,\n",
       "         0.,   0., -inf,   0.,   0., -inf, -inf,   0., -inf,   0.,   0.,\n",
       "         0.,   0., -inf,   0.,   0.,   0.,   0.,   0., -inf,   0., -inf,\n",
       "       -inf, -inf, -inf, -inf, -inf, -inf, -inf, -inf, -inf, -inf, -inf,\n",
       "       -inf, -inf,   0.,   0.,   0.,   0.,   0.,   0., -inf,   0., -inf,\n",
       "         0.,   0., -inf,   0.,   0., -inf,   0., -inf, -inf,   0.,   0.,\n",
       "         0.,   0.,   0.,   0.,   0.,   0.,   0.,   0.,   0.,   0.,   0.,\n",
       "       -inf,   0.,   0., -inf,   0., -inf,   0.,   0.,   0.,   0.,   0.,\n",
       "         0.,   0.,   0.,   0.,   0.,   0.,   0.,   0.,   0., -inf,   0.,\n",
       "         0.,   0., -inf,   0., -inf,   0.,   0.,   0.,   0., -inf, -inf,\n",
       "       -inf,   0.,   0.,   0.,   0., -inf,   0., -inf,   0., -inf,   0.,\n",
       "         0.,   0., -inf,   0.,   0.,   0.,   0.,   0.,   0.,   0., -inf,\n",
       "       -inf, -inf,   0.,   0.,   0.,   0.,   0.,   0.,   0.,   0.,   0.,\n",
       "         0.,   0., -inf, -inf,   0., -inf, -inf, -inf,   0., -inf, -inf,\n",
       "         0.,   0.,   0.,   0.,   0., -inf,   0.,   0.,   0.,   0.,   0.,\n",
       "       -inf,   0.,   0.,   0., -inf,   0.,   0., -inf, -inf,   0.,   0.,\n",
       "         0.,   0.,   0.,   0., -inf,   0.,   0.,   0.,   0.,   0.,   0.,\n",
       "         0., -inf,   0.,   0.,   0.,   0.,   0., -inf,   0.,   0., -inf,\n",
       "         0.,   0.,   0.,   0.,   0.,   0.,   0.,   0.,   0.,   0.,   0.,\n",
       "         0., -inf,   0., -inf, -inf,   0., -inf,   0.,   0.,   0.,   0.,\n",
       "         0., -inf,   0.,   0., -inf,   0., -inf,   0.,   0., -inf,   0.,\n",
       "       -inf,   0.,   0.,   0.,   0.,   0.,   0.,   0.,   0., -inf, -inf,\n",
       "         0.,   0.,   0.,   0.,   0.,   0., -inf,   0.,   0.,   0.,   0.,\n",
       "         0.,   0.,   0.,   0.,   0.,   0., -inf,   0.,   0.,   0.,   0.,\n",
       "         0.,   0.,   0., -inf,   0., -inf,   0.,   0., -inf,   0.,   0.,\n",
       "         0.,   0.,   0., -inf, -inf,   0., -inf,   0., -inf,   0.,   0.,\n",
       "         0.,   0.,   0., -inf,   0.,   0., -inf,   0., -inf,   0., -inf,\n",
       "       -inf,   0.,   0.,   0., -inf,   0.,   0.,   0.,   0.,   0.,   0.,\n",
       "         0.,   0.,   0.,   0.,   0., -inf,   0., -inf, -inf,   0.,   0.,\n",
       "         0.,   0.,   0.,   0.,   0.,   0.,   0.,   0.,   0.,   0.,   0.,\n",
       "         0.,   0.,   0.,   0.,   0.,   0.,   0.,   0.,   0.,   0.,   0.,\n",
       "         0., -inf, -inf, -inf, -inf, -inf, -inf,   0.])"
      ]
     },
     "execution_count": 19,
     "metadata": {},
     "output_type": "execute_result"
    }
   ],
   "source": [
    "np.log(y)"
   ]
  },
  {
   "cell_type": "code",
   "execution_count": 17,
   "metadata": {},
   "outputs": [
    {
     "data": {
      "text/plain": [
       "array([1.e-15, 1.e-15, 1.e-15, 1.e-15, 1.e-15, 1.e-15, 1.e-15, 1.e-15,\n",
       "       1.e-15, 1.e-15, 1.e-15, 1.e-15, 1.e-15, 1.e-15, 1.e-15, 1.e-15,\n",
       "       1.e-15, 1.e-15, 1.e-15, 1.e-15, 1.e-15, 1.e-15, 1.e-15, 1.e-15,\n",
       "       1.e-15, 1.e-15, 1.e-15, 1.e-15, 1.e-15, 1.e-15, 1.e-15, 1.e-15,\n",
       "       1.e-15, 1.e-15, 1.e-15, 1.e-15, 1.e-15, 1.e-15, 1.e-15, 1.e-15,\n",
       "       1.e-15, 1.e-15, 1.e-15, 1.e-15, 1.e-15, 1.e-15, 1.e-15, 1.e-15,\n",
       "       1.e-15, 1.e-15, 1.e-15, 1.e-15, 1.e-15, 1.e-15, 1.e-15, 1.e-15,\n",
       "       1.e-15, 1.e-15, 1.e-15, 1.e-15, 1.e-15, 1.e-15, 1.e-15, 1.e-15,\n",
       "       1.e-15, 1.e-15, 1.e-15, 1.e-15, 1.e-15, 1.e-15, 1.e-15, 1.e-15,\n",
       "       1.e-15, 1.e-15, 1.e-15, 1.e-15, 1.e-15, 1.e-15, 1.e-15, 1.e-15,\n",
       "       1.e-15, 1.e-15, 1.e-15, 1.e-15, 1.e-15, 1.e-15, 1.e-15, 1.e-15,\n",
       "       1.e-15, 1.e-15, 1.e-15, 1.e-15, 1.e-15, 1.e-15, 1.e-15, 1.e-15,\n",
       "       1.e-15, 1.e-15, 1.e-15, 1.e-15, 1.e-15, 1.e-15, 1.e-15, 1.e-15,\n",
       "       1.e-15, 1.e-15, 1.e-15, 1.e-15, 1.e-15, 1.e-15, 1.e-15, 1.e-15,\n",
       "       1.e-15, 1.e-15, 1.e-15, 1.e-15, 1.e-15, 1.e-15, 1.e-15, 1.e-15,\n",
       "       1.e-15, 1.e-15, 1.e-15, 1.e-15, 1.e-15, 1.e-15, 1.e-15, 1.e-15,\n",
       "       1.e-15, 1.e-15, 1.e-15, 1.e-15, 1.e-15, 1.e-15, 1.e-15, 1.e-15,\n",
       "       1.e-15, 1.e-15, 1.e-15, 1.e-15, 1.e-15, 1.e-15, 1.e-15, 1.e-15,\n",
       "       1.e-15, 1.e-15, 1.e-15, 1.e-15, 1.e-15, 1.e-15, 1.e-15, 1.e-15,\n",
       "       1.e-15, 1.e-15, 1.e-15, 1.e-15, 1.e-15, 1.e-15, 1.e-15, 1.e-15,\n",
       "       1.e-15, 1.e-15, 1.e-15, 1.e-15, 1.e-15, 1.e-15, 1.e-15, 1.e-15,\n",
       "       1.e-15, 1.e-15, 1.e-15, 1.e-15, 1.e-15, 1.e-15, 1.e-15, 1.e-15,\n",
       "       1.e-15, 1.e-15, 1.e-15, 1.e-15, 1.e-15, 1.e-15, 1.e-15, 1.e-15,\n",
       "       1.e-15, 1.e-15, 1.e-15, 1.e-15, 1.e-15, 1.e-15, 1.e-15, 1.e-15,\n",
       "       1.e-15, 1.e-15, 1.e-15, 1.e-15, 1.e-15, 1.e-15, 1.e-15, 1.e-15,\n",
       "       1.e-15, 1.e-15, 1.e-15, 1.e-15, 1.e-15, 1.e-15, 1.e-15, 1.e-15,\n",
       "       1.e-15, 1.e-15, 1.e-15, 1.e-15, 1.e-15, 1.e-15, 1.e-15, 1.e-15,\n",
       "       1.e-15, 1.e-15, 1.e-15, 1.e-15, 1.e-15, 1.e-15, 1.e-15, 1.e-15,\n",
       "       1.e-15, 1.e-15, 1.e-15, 1.e-15, 1.e-15, 1.e-15, 1.e-15, 1.e-15,\n",
       "       1.e-15, 1.e-15, 1.e-15, 1.e-15, 1.e-15, 1.e-15, 1.e-15, 1.e-15,\n",
       "       1.e-15, 1.e-15, 1.e-15, 1.e-15, 1.e-15, 1.e-15, 1.e-15, 1.e-15,\n",
       "       1.e-15, 1.e-15, 1.e-15, 1.e-15, 1.e-15, 1.e-15, 1.e-15, 1.e-15,\n",
       "       1.e-15, 1.e-15, 1.e-15, 1.e-15, 1.e-15, 1.e-15, 1.e-15, 1.e-15,\n",
       "       1.e-15, 1.e-15, 1.e-15, 1.e-15, 1.e-15, 1.e-15, 1.e-15, 1.e-15,\n",
       "       1.e-15, 1.e-15, 1.e-15, 1.e-15, 1.e-15, 1.e-15, 1.e-15, 1.e-15,\n",
       "       1.e-15, 1.e-15, 1.e-15, 1.e-15, 1.e-15, 1.e-15, 1.e-15, 1.e-15,\n",
       "       1.e-15, 1.e-15, 1.e-15, 1.e-15, 1.e-15, 1.e-15, 1.e-15, 1.e-15,\n",
       "       1.e-15, 1.e-15, 1.e-15, 1.e-15, 1.e-15, 1.e-15, 1.e-15, 1.e-15,\n",
       "       1.e-15, 1.e-15, 1.e-15, 1.e-15, 1.e-15, 1.e-15, 1.e-15, 1.e-15,\n",
       "       1.e-15, 1.e-15, 1.e-15, 1.e-15, 1.e-15, 1.e-15, 1.e-15, 1.e-15,\n",
       "       1.e-15, 1.e-15, 1.e-15, 1.e-15, 1.e-15, 1.e-15, 1.e-15, 1.e-15,\n",
       "       1.e-15, 1.e-15, 1.e-15, 1.e-15, 1.e-15, 1.e-15, 1.e-15, 1.e-15,\n",
       "       1.e-15, 1.e-15, 1.e-15, 1.e-15, 1.e-15, 1.e-15, 1.e-15, 1.e-15,\n",
       "       1.e-15, 1.e-15, 1.e-15, 1.e-15, 1.e-15, 1.e-15, 1.e-15, 1.e-15,\n",
       "       1.e-15, 1.e-15, 1.e-15, 1.e-15, 1.e-15, 1.e-15, 1.e-15, 1.e-15,\n",
       "       1.e-15, 1.e-15, 1.e-15, 1.e-15, 1.e-15, 1.e-15, 1.e-15, 1.e-15,\n",
       "       1.e-15, 1.e-15, 1.e-15, 1.e-15, 1.e-15, 1.e-15, 1.e-15, 1.e-15,\n",
       "       1.e-15, 1.e-15, 1.e-15, 1.e-15, 1.e-15, 1.e-15, 1.e-15, 1.e-15,\n",
       "       1.e-15, 1.e-15, 1.e-15, 1.e-15, 1.e-15, 1.e-15, 1.e-15, 1.e-15,\n",
       "       1.e-15, 1.e-15, 1.e-15, 1.e-15, 1.e-15, 1.e-15, 1.e-15, 1.e-15,\n",
       "       1.e-15, 1.e-15, 1.e-15, 1.e-15, 1.e-15, 1.e-15, 1.e-15, 1.e-15,\n",
       "       1.e-15, 1.e-15, 1.e-15, 1.e-15, 1.e-15, 1.e-15, 1.e-15, 1.e-15,\n",
       "       1.e-15, 1.e-15, 1.e-15, 1.e-15, 1.e-15, 1.e-15, 1.e-15, 1.e-15,\n",
       "       1.e-15, 1.e-15, 1.e-15, 1.e-15, 1.e-15, 1.e-15, 1.e-15, 1.e-15,\n",
       "       1.e-15, 1.e-15, 1.e-15, 1.e-15, 1.e-15, 1.e-15, 1.e-15, 1.e-15,\n",
       "       1.e-15, 1.e-15, 1.e-15, 1.e-15, 1.e-15, 1.e-15, 1.e-15, 1.e-15,\n",
       "       1.e-15, 1.e-15, 1.e-15, 1.e-15, 1.e-15, 1.e-15, 1.e-15, 1.e-15,\n",
       "       1.e-15, 1.e-15, 1.e-15, 1.e-15, 1.e-15, 1.e-15, 1.e-15, 1.e-15,\n",
       "       1.e-15, 1.e-15, 1.e-15, 1.e-15, 1.e-15, 1.e-15, 1.e-15, 1.e-15,\n",
       "       1.e-15, 1.e-15, 1.e-15, 1.e-15, 1.e-15, 1.e-15, 1.e-15, 1.e-15,\n",
       "       1.e-15, 1.e-15, 1.e-15, 1.e-15, 1.e-15, 1.e-15, 1.e-15, 1.e-15,\n",
       "       1.e-15, 1.e-15, 1.e-15, 1.e-15, 1.e-15, 1.e-15, 1.e-15, 1.e-15,\n",
       "       1.e-15, 1.e-15, 1.e-15, 1.e-15, 1.e-15, 1.e-15, 1.e-15, 1.e-15,\n",
       "       1.e-15, 1.e-15, 1.e-15, 1.e-15, 1.e-15, 1.e-15, 1.e-15, 1.e-15,\n",
       "       1.e-15, 1.e-15, 1.e-15, 1.e-15, 1.e-15, 1.e-15, 1.e-15, 1.e-15,\n",
       "       1.e-15, 1.e-15, 1.e-15, 1.e-15, 1.e-15, 1.e-15, 1.e-15, 1.e-15,\n",
       "       1.e-15, 1.e-15, 1.e-15, 1.e-15, 1.e-15, 1.e-15, 1.e-15, 1.e-15,\n",
       "       1.e-15, 1.e-15, 1.e-15, 1.e-15, 1.e-15, 1.e-15, 1.e-15, 1.e-15,\n",
       "       1.e-15, 1.e-15, 1.e-15, 1.e-15, 1.e-15, 1.e-15, 1.e-15, 1.e-15,\n",
       "       1.e-15, 1.e-15, 1.e-15, 1.e-15, 1.e-15, 1.e-15, 1.e-15, 1.e-15,\n",
       "       1.e-15, 1.e-15, 1.e-15, 1.e-15, 1.e-15, 1.e-15, 1.e-15, 1.e-15,\n",
       "       1.e-15])"
      ]
     },
     "execution_count": 17,
     "metadata": {},
     "output_type": "execute_result"
    }
   ],
   "source": [
    "my_hat"
   ]
  },
  {
   "cell_type": "code",
   "execution_count": 9,
   "metadata": {},
   "outputs": [
    {
     "data": {
      "text/plain": [
       "array([[1.00000000e+00, 3.05902321e-07],\n",
       "       [9.99999999e-01, 3.05902321e-07],\n",
       "       [1.00000000e+00, 3.05902321e-07],\n",
       "       ...,\n",
       "       [9.99639559e-01, 3.60440932e-04],\n",
       "       [1.00000000e+00, 3.05902321e-07],\n",
       "       [1.60064693e-03, 9.98399353e-01]])"
      ]
     },
     "execution_count": 9,
     "metadata": {},
     "output_type": "execute_result"
    }
   ],
   "source": [
    "y_hat"
   ]
  },
  {
   "cell_type": "code",
   "execution_count": null,
   "metadata": {},
   "outputs": [],
   "source": []
  }
 ],
 "metadata": {
  "kernelspec": {
   "display_name": "Python 3",
   "language": "python",
   "name": "python3"
  },
  "language_info": {
   "codemirror_mode": {
    "name": "ipython",
    "version": 3
   },
   "file_extension": ".py",
   "mimetype": "text/x-python",
   "name": "python",
   "nbconvert_exporter": "python",
   "pygments_lexer": "ipython3",
   "version": "3.6.3"
  }
 },
 "nbformat": 4,
 "nbformat_minor": 2
}
